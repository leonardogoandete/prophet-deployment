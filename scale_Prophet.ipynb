{
 "cells": [
  {
   "cell_type": "code",
   "execution_count": null,
   "metadata": {
    "executionInfo": {
     "elapsed": 16,
     "status": "ok",
     "timestamp": 1754839484847,
     "user": {
      "displayName": "Leonardo Goandete",
      "userId": "02204863433813357561"
     },
     "user_tz": 180
    },
    "id": "ic6xEc8riHrz"
   },
   "outputs": [],
   "source": [
    "# Importando bibliotecas necessárias\n",
    "from prophet import Prophet\n",
    "\n",
    "import numpy as np\n",
    "import pandas as pd\n",
    "import matplotlib.pyplot as plt"
   ]
  },
  {
   "cell_type": "code",
   "execution_count": null,
   "metadata": {
    "executionInfo": {
     "elapsed": 3,
     "status": "ok",
     "timestamp": 1754839484889,
     "user": {
      "displayName": "Leonardo Goandete",
      "userId": "02204863433813357561"
     },
     "user_tz": 180
    },
    "id": "MX2SlIHliU0f"
   },
   "outputs": [],
   "source": [
    "#Carregando dados do CSV\n",
    "df = pd.read_csv(\"teste.csv\", parse_dates=['timestamp'])"
   ]
  },
  {
   "cell_type": "code",
   "execution_count": null,
   "metadata": {
    "executionInfo": {
     "elapsed": 13,
     "status": "ok",
     "timestamp": 1754839484901,
     "user": {
      "displayName": "Leonardo Goandete",
      "userId": "02204863433813357561"
     },
     "user_tz": 180
    },
    "id": "hgRSoo6TiXcR"
   },
   "outputs": [],
   "source": [
    "# Renomear colunas para corresponder aos requisitos do Prophet\n",
    "df = df.rename(columns={\"value\": \"y\", \"timestamp\": \"ds\"})"
   ]
  },
  {
   "cell_type": "code",
   "execution_count": null,
   "metadata": {
    "executionInfo": {
     "elapsed": 1,
     "status": "ok",
     "timestamp": 1754839484903,
     "user": {
      "displayName": "Leonardo Goandete",
      "userId": "02204863433813357561"
     },
     "user_tz": 180
    },
    "id": "fXlHy_rOioet"
   },
   "outputs": [],
   "source": [
    "# Configurando parametros\n",
    "resolution = 5 #minutos\n",
    "no_of_days  = 3 # dias para análise\n",
    "no_of_samples_per_day = int(24*60/resolution) # número de amostras por dia\n",
    "no_of_samples = no_of_samples_per_day * no_of_days # número total de amostras\n",
    "\n",
    "# Amplitute parameters\n",
    "throughput_per_replica = 10 # capacidade por réplica"
   ]
  },
  {
   "cell_type": "code",
   "execution_count": null,
   "metadata": {
    "colab": {
     "base_uri": "https://localhost:8080/",
     "height": 483
    },
    "executionInfo": {
     "elapsed": 659,
     "status": "ok",
     "timestamp": 1754839485564,
     "user": {
      "displayName": "Leonardo Goandete",
      "userId": "02204863433813357561"
     },
     "user_tz": 180
    },
    "id": "xj4dlGOKiwKJ",
    "outputId": "0c1f96be-fbe9-4a0d-881c-5bb2818abeba"
   },
   "outputs": [],
   "source": [
    "# Escalar o valor para obter réplicas\n",
    "df[\"y\"] = (df[\"y\"] / throughput_per_replica).apply(np.round) \n",
    "\n",
    "df.head(no_of_samples_per_day*3).plot(kind='line', x='ds', y='y')"
   ]
  },
  {
   "cell_type": "code",
   "execution_count": null,
   "metadata": {
    "executionInfo": {
     "elapsed": 2,
     "status": "ok",
     "timestamp": 1754839485567,
     "user": {
      "displayName": "Leonardo Goandete",
      "userId": "02204863433813357561"
     },
     "user_tz": 180
    },
    "id": "gMR7DeGji7rt"
   },
   "outputs": [],
   "source": [
    "# Dividir dados em dados de treino e teste\n",
    "df_train = df.head(no_of_samples_per_day*6) # dados de treino (6 dias)\n",
    "df_test = df.tail(no_of_samples_per_day*4) # dados de teste (4 dias)"
   ]
  },
  {
   "cell_type": "code",
   "execution_count": null,
   "metadata": {
    "colab": {
     "base_uri": "https://localhost:8080/"
    },
    "executionInfo": {
     "elapsed": 92,
     "status": "ok",
     "timestamp": 1754839485661,
     "user": {
      "displayName": "Leonardo Goandete",
      "userId": "02204863433813357561"
     },
     "user_tz": 180
    },
    "id": "HwC51h_gi8P9",
    "outputId": "cf5fcb31-2f31-4bcf-e499-f01c40bc8067"
   },
   "outputs": [],
   "source": [
    "# Criar e ajustar um modelo Prophet\n",
    "model = Prophet()\n",
    "model.fit(df_train)"
   ]
  },
  {
   "cell_type": "code",
   "execution_count": null,
   "metadata": {
    "colab": {
     "base_uri": "https://localhost:8080/",
     "height": 1000
    },
    "executionInfo": {
     "elapsed": 1546,
     "status": "ok",
     "timestamp": 1754839487209,
     "user": {
      "displayName": "Leonardo Goandete",
      "userId": "02204863433813357561"
     },
     "user_tz": 180
    },
    "id": "ALKbNb7ai-p9",
    "outputId": "486a7d2e-bcd8-4268-a74e-348193de2026"
   },
   "outputs": [],
   "source": [
    "# Prever valores futuros para 10 dias\n",
    "future = model.make_future_dataframe(periods=no_of_samples_per_day*10, freq='{}min'.format(resolution)) # criar dataframe futuro\n",
    "\n",
    "forecast = model.predict(future) # prever valores futuros\n",
    "forecast['forecasted_y'] = forecast['yhat'].apply(np.ceil) # arredondar para cima os valores previstos\n",
    "\n",
    "# Plotar os componentes da previsão\n",
    "model.plot_components(forecast) # plotar os componentes da previsão"
   ]
  },
  {
   "cell_type": "code",
   "execution_count": null,
   "metadata": {
    "colab": {
     "base_uri": "https://localhost:8080/",
     "height": 497
    },
    "executionInfo": {
     "elapsed": 705,
     "status": "ok",
     "timestamp": 1754839487892,
     "user": {
      "displayName": "Leonardo Goandete",
      "userId": "02204863433813357561"
     },
     "user_tz": 180
    },
    "id": "ftxUHktpjA9Y",
    "outputId": "d7b646a4-beab-49e3-fb5b-3f5bc9506915"
   },
   "outputs": [],
   "source": [
    "# Plotar os dados reais e previstos\n",
    "ax = forecast.tail(no_of_samples_per_day*10).head(no_of_samples_per_day*4).plot(kind='line', x='ds', y='forecasted_y') # plotar os valores previstos\n",
    "df_train.tail(no_of_samples_per_day*2).plot(x='ds', y='y', ax=ax) # plotar os dados reais"
   ]
  },
  {
   "cell_type": "code",
   "execution_count": null,
   "metadata": {
    "colab": {
     "base_uri": "https://localhost:8080/"
    },
    "executionInfo": {
     "elapsed": 127,
     "status": "ok",
     "timestamp": 1754839487956,
     "user": {
      "displayName": "Leonardo Goandete",
      "userId": "02204863433813357561"
     },
     "user_tz": 180
    },
    "id": "ji58Jx5HjC5w",
    "outputId": "b601e92b-2a3c-4344-c257-49ab70c301a2"
   },
   "outputs": [],
   "source": [
    "# Calcular o erro quadrático médio da raiz\n",
    "from sklearn.metrics import mean_squared_error\n",
    "\n",
    "# Obter os valores reais do dataframe original\n",
    "actual = df_test['y']\n",
    "\n",
    "# Obter os valores previstos do dataframe previsto\n",
    "#predicted = forecast['forecasted_y'].tail(len(df_test))\n",
    "predicted = forecast['forecasted_y'].tail(no_of_samples_per_day*4)\n",
    "\n",
    "# Calcular o rmse\n",
    "rmse = np.sqrt(mean_squared_error(actual, predicted))\n",
    "\n",
    "# Imprimir o rmse\n",
    "print(f\"RMSE: {rmse:.2f}; {rmse * 100 / df_test['y'].max():.2f}%\")"
   ]
  },
  {
   "cell_type": "code",
   "execution_count": null,
   "metadata": {
    "executionInfo": {
     "elapsed": 19,
     "status": "ok",
     "timestamp": 1754839487976,
     "user": {
      "displayName": "Leonardo Goandete",
      "userId": "02204863433813357561"
     },
     "user_tz": 180
    },
    "id": "-eqgi7bTjEm1"
   },
   "outputs": [],
   "source": [
    "# Save the prediction in a csv file\n",
    "forecast = forecast.rename(columns={\"forecasted_y\": \"value\", \"ds\": \"timestamp\"})\n",
    "forecast.tail(no_of_samples_per_day*6).to_csv('prediction.csv', columns=['timestamp','value'], index=False)"
   ]
  }
 ],
 "metadata": {
  "colab": {
   "authorship_tag": "ABX9TyO8vAobDMa/cRchJnqEYJAZ",
   "provenance": []
  },
  "kernelspec": {
   "display_name": "teste_prophet",
   "language": "python",
   "name": "python3"
  },
  "language_info": {
   "codemirror_mode": {
    "name": "ipython",
    "version": 3
   },
   "file_extension": ".py",
   "mimetype": "text/x-python",
   "name": "python",
   "nbconvert_exporter": "python",
   "pygments_lexer": "ipython3",
   "version": "3.12.3"
  }
 },
 "nbformat": 4,
 "nbformat_minor": 0
}
